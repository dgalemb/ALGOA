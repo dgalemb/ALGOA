{
 "cells": [
  {
   "cell_type": "code",
   "execution_count": 45,
   "metadata": {},
   "outputs": [
    {
     "name": "stdout",
     "output_type": "stream",
     "text": [
      "11.3 ms ± 24.1 µs per loop (mean ± std. dev. of 7 runs, 100 loops each)\n"
     ]
    }
   ],
   "source": [
    "import random\n",
    "import timeit\n",
    "\n",
    "def alea():\n",
    "\n",
    "    return random.choice([1,0,0,0,0,0,0,0,0,0])\n",
    "\n",
    "\n",
    "def zerum(n):\n",
    "\n",
    "    list = []\n",
    "\n",
    "    while len(list) < n:\n",
    "        x = alea()\n",
    "        y = alea()\n",
    "        if x != y:\n",
    "            list.append(x)\n",
    "\n",
    "    return list[:3], sum(list)/n\n",
    "\n",
    "%timeit zerum(2000)"
   ]
  }
 ],
 "metadata": {
  "kernelspec": {
   "display_name": "Python 3.10.8 64-bit",
   "language": "python",
   "name": "python3"
  },
  "language_info": {
   "codemirror_mode": {
    "name": "ipython",
    "version": 3
   },
   "file_extension": ".py",
   "mimetype": "text/x-python",
   "name": "python",
   "nbconvert_exporter": "python",
   "pygments_lexer": "ipython3",
   "version": "3.10.8"
  },
  "orig_nbformat": 4,
  "vscode": {
   "interpreter": {
    "hash": "b0fa6594d8f4cbf19f97940f81e996739fb7646882a419484c72d19e05852a7e"
   }
  }
 },
 "nbformat": 4,
 "nbformat_minor": 2
}
